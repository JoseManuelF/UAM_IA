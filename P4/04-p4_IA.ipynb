{
 "cells": [
  {
   "cell_type": "markdown",
   "metadata": {},
   "source": [
    "## 4. Predicción de fugas de clientes en una compañía telefónica (7 puntos)"
   ]
  },
  {
   "cell_type": "markdown",
   "metadata": {},
   "source": [
    "Una compañía telefónica está interesada en que desarrollemos un modelo que prediga los **100 clientes actuales** (dataset de explotaación) que tienen más probabilidad de abandonar la compañía. Para ello nos proporcionan una base de datos **fuga_clientes_empresa_telefonica_construccion.csv** con casos etiquetados, que usaremos para construir nuestro modelo de predicción.\n",
    "\n",
    "Los campos de esta base de datos son:\n",
    "\n",
    "* **Customer ID**\n",
    "\n",
    "* **network_age**: antigüedad del cliente en días\n",
    "\n",
    "* **Customer tenure in months:** antigüedad del cliente en meses\n",
    "\n",
    "* **Total Spend in Months 1 and 2:** gasto total del cliente en los meses de referencia 1 y 2\n",
    "\n",
    "* **Total SMS Spend:** gasto total en SMS\n",
    "\n",
    "* **Total Data Spend:** gasto total en datos/internet\n",
    "\n",
    "* **Total Data Consumption:** consumo total de datos (en KB) durante el período de estudio\n",
    "\n",
    "* **Total Unique Calls:** número total de llamadas únicas\n",
    "\n",
    "* **Total Onnet spend:** gasto total en llamadas a otros usuarios de la misma red de telefonía\n",
    "\n",
    "* **Total Offnet spend:** gasto total en llamadas a otros usuarios de redes de telefonía diferentes\n",
    "\n",
    "* **Total Call centre complaint calls:** número de llamadas de queja al call center\n",
    "\n",
    "* **Network type subscription in Month 1:** suscripción de tipo de red en el mes 1. Esto indica la suscripción de red preferida de un cliente, lo que puede indicar su tipo de dispositivo: servicio 2G o 3G\n",
    "\n",
    "* **Network type subscription in Month 2:** igual que el anterior pero en el mes posterior\n",
    "\n",
    "* **Churn Status**: el valor es 1 si el cliente abandona la compañía telefónica, 0 si permanece en ella\n",
    "\n",
    "* **Most Loved Competitor network in Month 1:** qué otro proveedor de la competencia prefiere el cliente en el mes 1. En realidad es un conjunto de columnas, cada una enfocada en un proveedor particular\n",
    "\n",
    "* **Most Loved Competitor network in Month 2:** qué otro proveedor de la competencia prefiere el cliente en el mes 2. En realidad es un conjunto de columnas, cada una enfocada en un proveedor particular\n",
    "\n",
    "La variable a predecir es **Churn Status**: el valor es 1 si el cliente **abandona** la compañía, 0 si no la abandona.\n",
    "\n",
    "La compañía también nos proporciona otra base de datos, **fuga_clientes_empresa_telefonica_explotacion.csv**, con información sobre clientes de los que no se sabe ahora mismo si van a permanecer o no en la compañía. Por tanto en esta segunda base de datos todos los valores de la columna **Churn Status** son missing values (NaN).\n",
    "\n",
    "La compañía nos pide que proporcionemos los IDs de los 100 clientes de la base de datos de explotación que con mayor probabilidad vayan a abandonar la compañía. Para ello proporcionaremos como entregable a la compañía un archivo csv con una sola columna, **Customer ID**, y 100 filas que contengan los IDs de los clientes seleccionados.\n",
    "\n",
    "El fichero **ejemplo_fichero_predicciones.csv** contiene un ejemplo con el formato solicitado para este archivo."
   ]
  },
  {
   "cell_type": "code",
   "execution_count": null,
   "metadata": {},
   "outputs": [],
   "source": [
    "import pandas as pd\n",
    "\n",
    "from sklearn.model_selection import train_test_split, cross_val_score\n",
    "\n",
    "from sklearn.neural_network import MLPClassifier\n",
    "from sklearn.neighbors import KNeighborsClassifier\n",
    "from sklearn.tree import DecisionTreeClassifier\n",
    "from sklearn.linear_model import LogisticRegression\n",
    "from sklearn.naive_bayes import GaussianNB"
   ]
  },
  {
   "cell_type": "code",
   "execution_count": null,
   "metadata": {},
   "outputs": [],
   "source": [
    "datos_construccion = pd.read_csv(\"./fuga_clientes_empresa_telefonica_construccion.csv\")\n",
    "datos_explotacion  = pd.read_csv(\"./fuga_clientes_empresa_telefonica_explotacion.csv\")"
   ]
  },
  {
   "cell_type": "code",
   "execution_count": null,
   "metadata": {},
   "outputs": [],
   "source": [
    "datos_construccion.columns"
   ]
  },
  {
   "cell_type": "code",
   "execution_count": null,
   "metadata": {},
   "outputs": [],
   "source": [
    "datos_explotacion.columns"
   ]
  },
  {
   "cell_type": "code",
   "execution_count": null,
   "metadata": {},
   "outputs": [],
   "source": [
    "# chequeo de que las columnas son exactamente las mismas en los dos ficheros:\n",
    "\n",
    "sum(datos_construccion.columns != datos_explotacion.columns)"
   ]
  },
  {
   "cell_type": "code",
   "execution_count": null,
   "metadata": {},
   "outputs": [],
   "source": [
    "# la columna a predecir es \"Churn Status\"\n",
    "# si es 1, el cliente se va de la compañía\n",
    "# si es 0, el cliente se queda\n",
    "\n",
    "# Esta columna se sabe en el dataset de construcción (ejemplos de clientes pasados):\n",
    "datos_construccion[\"Churn Status\"].values[:10]"
   ]
  },
  {
   "cell_type": "code",
   "execution_count": null,
   "metadata": {},
   "outputs": [],
   "source": [
    "# Sin embargo no se sabe en el dataset de explotación (clientes actuales):\n",
    "datos_explotacion[\"Churn Status\"].values[:10]"
   ]
  },
  {
   "cell_type": "code",
   "execution_count": null,
   "metadata": {},
   "outputs": [],
   "source": [
    "nombres_atrs = list(datos_construccion.columns)\n",
    "\n",
    "# We have removed Churn Status because it is what we want to predict, so it cannot be in the input data\n",
    "nombres_atrs.remove(\"Churn Status\")\n",
    "\n",
    "# We have removed Customer ID because it does not affect that a client leaves or stays in the company\n",
    "nombres_atrs.remove(\"Customer ID\")\n",
    "print(nombres_atrs)\n",
    "\n",
    "X = datos_construccion[nombres_atrs].values\n",
    "# Churn Status is the value we want to predict\n",
    "y = datos_construccion[\"Churn Status\"].values"
   ]
  },
  {
   "cell_type": "code",
   "execution_count": null,
   "metadata": {},
   "outputs": [],
   "source": [
    "# Testing the efficiency of the neural network\n",
    "clf_nn = MLPClassifier(hidden_layer_sizes=(60),\n",
    "                       max_iter=1000,\n",
    "                       alpha=0)\n",
    "\n",
    "scores = cross_val_score(clf_nn,\n",
    "                         X,\n",
    "                         y,\n",
    "                         cv=5,\n",
    "                         )\n",
    "\n",
    "\n",
    "print(\"Score global del modelo: {:.2f} +/- {:.2f}\".format(scores.mean(), scores.std()))"
   ]
  },
  {
   "cell_type": "code",
   "execution_count": null,
   "metadata": {},
   "outputs": [],
   "source": [
    "# Testing the efficiency of the k-nn algorithm\n",
    "clf_knn = KNeighborsClassifier(n_neighbors=27)\n",
    "\n",
    "scores = cross_val_score(clf_knn,\n",
    "                         X,\n",
    "                         y,\n",
    "                         cv=5,\n",
    "                         )\n",
    "\n",
    "\n",
    "print(\"Score global del modelo: {:.2f} +/- {:.2f}\".format(scores.mean(), scores.std()))"
   ]
  },
  {
   "cell_type": "code",
   "execution_count": null,
   "metadata": {},
   "outputs": [],
   "source": [
    "# Testing the efficiency of the decision tree\n",
    "clf_dt = DecisionTreeClassifier(criterion='entropy', max_depth=7)\n",
    "\n",
    "scores = cross_val_score(clf_dt,\n",
    "                         X,\n",
    "                         y,\n",
    "                         cv=5,\n",
    "                         )\n",
    "\n",
    "\n",
    "print(\"Score global del modelo: {:.2f} +/- {:.2f}\".format(scores.mean(), scores.std()))"
   ]
  },
  {
   "cell_type": "code",
   "execution_count": null,
   "metadata": {},
   "outputs": [],
   "source": [
    "# Testing the efficiency of gaussian naive bayes\n",
    "clf_gnb = GaussianNB()\n",
    "\n",
    "scores = cross_val_score(clf_gnb,\n",
    "                         X,\n",
    "                         y,\n",
    "                         cv=5,\n",
    "                         )\n",
    "\n",
    "\n",
    "print(\"Score global del modelo: {:.2f} +/- {:.2f}\".format(scores.mean(), scores.std()))"
   ]
  },
  {
   "cell_type": "code",
   "execution_count": null,
   "metadata": {},
   "outputs": [],
   "source": [
    "# Testing the efficiency of logistic regression\n",
    "clf_lr = LogisticRegression(C=1e10,solver='lbfgs')\n",
    "\n",
    "scores = cross_val_score(clf_lr,\n",
    "                         X,\n",
    "                         y,\n",
    "                         cv=5,\n",
    "                         )\n",
    "\n",
    "\n",
    "print(\"Score global del modelo: {:.2f} +/- {:.2f}\".format(scores.mean(), scores.std()))"
   ]
  },
  {
   "source": [
    "After testing which prediction algorithm was the best for this problem, we reached the conclusion that a decision tree with depth 7 was the best option. All the values in the code were adapted to get the best result possible with each one of them.\n",
    "\n",
    "Once we decided that the best option was to use a decision tree with depth 7, we fit it to the data so it \"remembers\" how to guess which customer was going to leave the company. After that, we load the new dataset (removing custormer id and churn status) and we use the desicion tree to predict the clients who will leave the company. This will give us an array of churn statuses (0s and 1s). With this array we can use the customer ids from fuga_clientes_empresa_telefonica_explotacion.csv and create the prediction.csv file where we write the ids of the clients that may leave the company as in ejemplo_fichero_predicciones.csv."
   ],
   "cell_type": "markdown",
   "metadata": {}
  },
  {
   "cell_type": "code",
   "execution_count": null,
   "metadata": {},
   "outputs": [],
   "source": [
    "# We remove Churn Status and Customer ID from the input data as we did previously\n",
    "nombres_prediction = list(datos_explotacion.columns)\n",
    "nombres_prediction.remove(\"Churn Status\")\n",
    "nombres_prediction.remove(\"Customer ID\")\n",
    "\n",
    "clf_dt.fit(X, y)\n",
    "\n",
    "predictX = datos_explotacion[nombres_prediction].values\n",
    "predictY = clf_dt.predict(predictX)\n",
    "\n",
    "print(predictY)\n",
    "\n",
    "f = open(\"prediction.csv\", \"w\")\n",
    "f.write(\"Customer ID\\n\")\n",
    "\n",
    "# Write to the csv file the customers that may leave\n",
    "for i in range(len(datos_explotacion[\"Customer ID\"])):\n",
    "    if predictY[i] == 1:\n",
    "        f.write(str(datos_explotacion[\"Customer ID\"].values[i]) + \"\\n\")\n",
    "\n",
    "f.close()"
   ]
  }
 ],
 "metadata": {
  "kernelspec": {
   "name": "python363jvsc74a57bd07624ca621d7ec95efb7e698cb955bbc1691c5a7ba16307613ed4f0fde6f6b148",
   "display_name": "Python 3.6.3 64-bit ('base': conda)"
  },
  "language_info": {
   "codemirror_mode": {
    "name": "ipython",
    "version": 3
   },
   "file_extension": ".py",
   "mimetype": "text/x-python",
   "name": "python",
   "nbconvert_exporter": "python",
   "pygments_lexer": "ipython3",
   "version": "3.6.3"
  },
  "metadata": {
   "interpreter": {
    "hash": "7624ca621d7ec95efb7e698cb955bbc1691c5a7ba16307613ed4f0fde6f6b148"
   }
  }
 },
 "nbformat": 4,
 "nbformat_minor": 2
}